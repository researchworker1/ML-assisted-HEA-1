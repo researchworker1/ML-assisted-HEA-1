{
 "cells": [
  {
   "cell_type": "code",
   "execution_count": 8,
   "id": "15fd7912-9ef8-4ca1-8c01-58d33b15520b",
   "metadata": {},
   "outputs": [],
   "source": [
    "import pandas as pd\n",
    "import numpy as np\n",
    "from sklearn.model_selection import GridSearchCV, KFold\n",
    "from sklearn.preprocessing import StandardScaler\n",
    "from sklearn.pipeline import Pipeline\n",
    "from sklearn.linear_model import Ridge\n",
    "from sklearn.ensemble import RandomForestRegressor, GradientBoostingRegressor\n",
    "from sklearn.svm import SVR"
   ]
  },
  {
   "cell_type": "code",
   "execution_count": 9,
   "id": "27b09f0a-b168-4f5b-a2c9-b1e36a6e111a",
   "metadata": {},
   "outputs": [],
   "source": [
    "data = pd.read_csv('HVfeature0.csv') \n",
    "y = data.iloc[:, 0]\n",
    "X = data.iloc[:, 1:]"
   ]
  },
  {
   "cell_type": "code",
   "execution_count": 10,
   "id": "5963c443-879a-488f-97b6-fc951216c480",
   "metadata": {},
   "outputs": [],
   "source": [
    "cv = KFold(n_splits=5, shuffle=True, random_state=42)"
   ]
  },
  {
   "cell_type": "code",
   "execution_count": 11,
   "id": "513fa37b-ee9e-4ce9-ba6f-76c67b6f1e26",
   "metadata": {},
   "outputs": [],
   "source": [
    "models_config = [\n",
    "    {\n",
    "        'name': 'Linear Regression',\n",
    "        'model': Pipeline([('scaler', StandardScaler()), \n",
    "                          ('regressor', Ridge())]),\n",
    "        'params': {\n",
    "            'regressor__alpha': [0.01, 0.1, 1, 10, 100]\n",
    "        }\n",
    "    },\n",
    "    {\n",
    "        'name': 'Random Forest',\n",
    "        'model': RandomForestRegressor(random_state=42),\n",
    "        'params': {\n",
    "            'n_estimators': [50, 100, 200],\n",
    "            'max_depth': [None, 10, 20],\n",
    "            'min_samples_split': [2, 5]\n",
    "        }\n",
    "    },\n",
    "    {\n",
    "        'name': 'Gradient Boosting',\n",
    "        'model': GradientBoostingRegressor(random_state=42),\n",
    "        'params': {\n",
    "            'n_estimators': [50, 100, 200],\n",
    "            'learning_rate': [0.01, 0.1, 0.2],\n",
    "            'max_depth': [3, 4, 5]\n",
    "        }\n",
    "    },\n",
    "    {\n",
    "        'name': 'Support Vector Machine',\n",
    "        'model': Pipeline([('scaler', StandardScaler()), \n",
    "                          ('regressor', SVR())]),\n",
    "        'params': {\n",
    "            'regressor__C': [0.1, 1, 10],\n",
    "            'regressor__epsilon': [0.01, 0.1, 0.2],\n",
    "            'regressor__kernel': ['linear', 'rbf']\n",
    "        }\n",
    "    }\n",
    "]"
   ]
  },
  {
   "cell_type": "code",
   "execution_count": 12,
   "id": "ea4f303e-fdc0-4afa-b9b3-25881a81405d",
   "metadata": {},
   "outputs": [],
   "source": [
    "results = []"
   ]
  },
  {
   "cell_type": "code",
   "execution_count": 13,
   "id": "0c7a0aaf-fc07-43c0-8d17-39544c7b19a2",
   "metadata": {},
   "outputs": [
    {
     "name": "stdout",
     "output_type": "stream",
     "text": [
      "In processing Linear Regression...\n",
      "In processing Random Forest...\n",
      "In processing Gradient Boosting...\n",
      "In processing Support Vector Machine...\n"
     ]
    }
   ],
   "source": [
    "for config in models_config:\n",
    "    print(f\"In processing {config['name']}...\")\n",
    "    \n",
    "    \n",
    "    grid = GridSearchCV(\n",
    "        estimator=config['model'],\n",
    "        param_grid=config['params'],\n",
    "        scoring={\n",
    "            'R2': 'r2',\n",
    "            'MAE': 'neg_mean_absolute_error',\n",
    "            'MSE': 'neg_mean_squared_error'\n",
    "        },\n",
    "        refit='MAE',\n",
    "        cv=cv,\n",
    "        n_jobs=-1\n",
    "    )\n",
    "    \n",
    "    grid.fit(X, y)\n",
    "    \n",
    "    \n",
    "    best_idx = grid.best_index_\n",
    "    metrics = {\n",
    "        'Model': config['name'],\n",
    "        'R2': grid.cv_results_['mean_test_R2'][best_idx],\n",
    "        'MAE': -grid.cv_results_['mean_test_MAE'][best_idx],\n",
    "        'RMSE': np.sqrt(-grid.cv_results_['mean_test_MSE'][best_idx]),\n",
    "        'Best Parameters': grid.best_params_\n",
    "    }\n",
    "    \n",
    "    results.append(metrics)"
   ]
  },
  {
   "cell_type": "code",
   "execution_count": 14,
   "id": "95c5d0f4-8ebd-4153-bfef-538528dcc296",
   "metadata": {},
   "outputs": [
    {
     "name": "stdout",
     "output_type": "stream",
     "text": [
      "\n",
      "Model performance comparison：\n",
      "                 Model       R2       MAE       RMSE                                                                 Best Parameters\n",
      "     Gradient Boosting 0.920179 30.473691  64.245987                     {'learning_rate': 0.2, 'max_depth': 5, 'n_estimators': 200}\n",
      "         Random Forest 0.921570 38.136582  63.644162                   {'max_depth': 20, 'min_samples_split': 2, 'n_estimators': 50}\n",
      "     Linear Regression 0.851797 65.907466  87.709414                                                      {'regressor__alpha': 0.01}\n",
      "Support Vector Machine 0.804268 70.040727 101.683798 {'regressor__C': 10, 'regressor__epsilon': 0.01, 'regressor__kernel': 'linear'}\n"
     ]
    }
   ],
   "source": [
    "results_df = pd.DataFrame(results).sort_values('MAE')\n",
    "print(\"\\nModel performance comparison：\")\n",
    "print(results_df[['Model', 'R2', 'MAE', 'RMSE', 'Best Parameters']].to_string(index=False))"
   ]
  },
  {
   "cell_type": "code",
   "execution_count": null,
   "id": "8bb1ab36-783e-4883-b75a-4a8f4a73978b",
   "metadata": {},
   "outputs": [],
   "source": []
  }
 ],
 "metadata": {
  "kernelspec": {
   "display_name": "Python 3 (ipykernel)",
   "language": "python",
   "name": "python3"
  },
  "language_info": {
   "codemirror_mode": {
    "name": "ipython",
    "version": 3
   },
   "file_extension": ".py",
   "mimetype": "text/x-python",
   "name": "python",
   "nbconvert_exporter": "python",
   "pygments_lexer": "ipython3",
   "version": "3.12.7"
  }
 },
 "nbformat": 4,
 "nbformat_minor": 5
}
